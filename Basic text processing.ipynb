{
 "cells": [
  {
   "cell_type": "markdown",
   "id": "8b512fd3",
   "metadata": {},
   "source": [
    "# Sentence Tokenize"
   ]
  },
  {
   "cell_type": "code",
   "execution_count": null,
   "id": "7b88342d",
   "metadata": {},
   "outputs": [],
   "source": [
    "http://www.nltk.org/nltk_data/"
   ]
  },
  {
   "cell_type": "code",
   "execution_count": null,
   "id": "4f67a79c",
   "metadata": {},
   "outputs": [],
   "source": []
  },
  {
   "cell_type": "code",
   "execution_count": null,
   "id": "ce48e078",
   "metadata": {},
   "outputs": [],
   "source": []
  },
  {
   "cell_type": "code",
   "execution_count": 1,
   "id": "719afda0",
   "metadata": {},
   "outputs": [],
   "source": [
    "import nltk"
   ]
  },
  {
   "cell_type": "code",
   "execution_count": 19,
   "id": "154e40a5",
   "metadata": {},
   "outputs": [
    {
     "name": "stderr",
     "output_type": "stream",
     "text": [
      "[nltk_data] Error loading punkt: <urlopen error [Errno 111] Connection\n",
      "[nltk_data]     refused>\n"
     ]
    },
    {
     "data": {
      "text/plain": [
       "False"
      ]
     },
     "execution_count": 19,
     "metadata": {},
     "output_type": "execute_result"
    }
   ],
   "source": [
    "# punkt is a pre-trained sentence tokenizer for English\n",
    "nltk.download('punkt')"
   ]
  },
  {
   "cell_type": "code",
   "execution_count": 3,
   "id": "ed24e952",
   "metadata": {},
   "outputs": [],
   "source": [
    "text='''Punctuation denotes the end of a sentence!\n",
    "\"But not always!\",said Fred...(who is a professor).\n",
    "Some sentences could break over multiple lines\n",
    "and begin with a lower case letter.\n",
    "a1 could be a variable name.\n",
    "'''"
   ]
  },
  {
   "cell_type": "code",
   "execution_count": 4,
   "id": "4f8209ea",
   "metadata": {},
   "outputs": [
    {
     "data": {
      "text/plain": [
       "'Punctuation denotes the end of a sentence!\\n\"But not always!\",said Fred...(who is a professor).\\nSome sentences could break over multiple lines\\nand begin with a lower case letter.\\na1 could be a variable name.\\n'"
      ]
     },
     "execution_count": 4,
     "metadata": {},
     "output_type": "execute_result"
    }
   ],
   "source": [
    "text"
   ]
  },
  {
   "cell_type": "code",
   "execution_count": 6,
   "id": "61162e70",
   "metadata": {},
   "outputs": [],
   "source": [
    "sents=nltk.sent_tokenize(text)"
   ]
  },
  {
   "cell_type": "code",
   "execution_count": 7,
   "id": "f8606715",
   "metadata": {},
   "outputs": [
    {
     "data": {
      "text/plain": [
       "'\"But not always!'"
      ]
     },
     "execution_count": 7,
     "metadata": {},
     "output_type": "execute_result"
    }
   ],
   "source": [
    "sents[1]"
   ]
  },
  {
   "cell_type": "code",
   "execution_count": 8,
   "id": "d83dd3cd",
   "metadata": {},
   "outputs": [
    {
     "data": {
      "text/plain": [
       "5"
      ]
     },
     "execution_count": 8,
     "metadata": {},
     "output_type": "execute_result"
    }
   ],
   "source": [
    "len(sents)"
   ]
  },
  {
   "cell_type": "code",
   "execution_count": 9,
   "id": "2d0cbde2",
   "metadata": {},
   "outputs": [
    {
     "name": "stdout",
     "output_type": "stream",
     "text": [
      "Punctuation denotes the end of a sentence!\n",
      "\"But not always!\n",
      "\",said Fred...(who is a professor).\n",
      "Some sentences could break over multiple lines\n",
      "and begin with a lower case letter.\n",
      "a1 could be a variable name.\n"
     ]
    }
   ],
   "source": [
    "for s in sents:\n",
    "    print(s)"
   ]
  },
  {
   "cell_type": "code",
   "execution_count": 10,
   "id": "e82a1acc",
   "metadata": {},
   "outputs": [
    {
     "name": "stdout",
     "output_type": "stream",
     "text": [
      "Punctuation denotes the end of a sentence!\n",
      "----\n",
      "\"But not always!\n",
      "----\n",
      "\",said Fred...(who is a professor).\n",
      "----\n",
      "Some sentences could break over multiple lines\n",
      "and begin with a lower case letter.\n",
      "----\n",
      "a1 could be a variable name.\n"
     ]
    }
   ],
   "source": [
    "print('\\n----\\n'.join(sents))"
   ]
  },
  {
   "cell_type": "markdown",
   "id": "a61b0003",
   "metadata": {},
   "source": [
    "# Word Tokenize"
   ]
  },
  {
   "cell_type": "code",
   "execution_count": 11,
   "id": "f1af8456",
   "metadata": {},
   "outputs": [],
   "source": [
    "import nltk"
   ]
  },
  {
   "cell_type": "code",
   "execution_count": 12,
   "id": "dd6136f7",
   "metadata": {},
   "outputs": [],
   "source": [
    "text='''Most of the time we can use white space.\n",
    "But what about fred@gmail.com or 13/01/2021?\n",
    "The students' attempts aren't working.\n",
    "May be it's the use of apostrophes? Or it might need a more up-to-date model.\n",
    "'''"
   ]
  },
  {
   "cell_type": "code",
   "execution_count": 13,
   "id": "8ec23542",
   "metadata": {},
   "outputs": [],
   "source": [
    "sents=nltk.sent_tokenize(text)"
   ]
  },
  {
   "cell_type": "code",
   "execution_count": 15,
   "id": "a1e36520",
   "metadata": {},
   "outputs": [
    {
     "name": "stdout",
     "output_type": "stream",
     "text": [
      "Most of the time we can use white space.\n",
      "----\n",
      "But what about fred@gmail.com or 13/01/2021?\n",
      "----\n",
      "The students' attempts aren't working.\n",
      "----\n",
      "May be it's the use of apostrophes?\n",
      "----\n",
      "Or it might need a more up-to-date model.\n"
     ]
    }
   ],
   "source": [
    "print('\\n----\\n'.join(sents))"
   ]
  },
  {
   "cell_type": "code",
   "execution_count": 18,
   "id": "787a09f6",
   "metadata": {},
   "outputs": [
    {
     "data": {
      "text/plain": [
       "[['Most', 'of', 'the', 'time', 'we', 'can', 'use', 'white', 'space', '.'],\n",
       " ['But', 'what', 'about', 'fred', '@', 'gmail.com', 'or', '13/01/2021', '?'],\n",
       " ['The', 'students', \"'\", 'attempts', 'are', \"n't\", 'working', '.'],\n",
       " ['May', 'be', 'it', \"'s\", 'the', 'use', 'of', 'apostrophes', '?'],\n",
       " ['Or', 'it', 'might', 'need', 'a', 'more', 'up-to-date', 'model', '.']]"
      ]
     },
     "execution_count": 18,
     "metadata": {},
     "output_type": "execute_result"
    }
   ],
   "source": [
    "[nltk.word_tokenize(s) for s in sents]"
   ]
  },
  {
   "cell_type": "markdown",
   "id": "ea7dd3d5",
   "metadata": {},
   "source": [
    "# Text Normalization"
   ]
  },
  {
   "cell_type": "markdown",
   "id": "78ac204e",
   "metadata": {},
   "source": [
    "stemming and lemmatization"
   ]
  },
  {
   "cell_type": "code",
   "execution_count": 26,
   "id": "423e5ea5",
   "metadata": {},
   "outputs": [],
   "source": [
    "import nltk"
   ]
  },
  {
   "cell_type": "code",
   "execution_count": 27,
   "id": "ce51af4a",
   "metadata": {},
   "outputs": [],
   "source": [
    "from nltk.stem import PorterStemmer, WordNetLemmatizer\n",
    "from nltk import wordnet\n"
   ]
  },
  {
   "cell_type": "code",
   "execution_count": 28,
   "id": "559335ea",
   "metadata": {},
   "outputs": [],
   "source": [
    "stemmer = PorterStemmer()\n",
    "wnl=WordNetLemmatizer()"
   ]
  },
  {
   "cell_type": "code",
   "execution_count": 29,
   "id": "25eaa9b7",
   "metadata": {},
   "outputs": [],
   "source": [
    "word = 'meeting'"
   ]
  },
  {
   "cell_type": "code",
   "execution_count": 30,
   "id": "3d212671",
   "metadata": {},
   "outputs": [
    {
     "data": {
      "text/plain": [
       "('meet', 'meeting')"
      ]
     },
     "execution_count": 30,
     "metadata": {},
     "output_type": "execute_result"
    }
   ],
   "source": [
    "stemmer.stem(word), wnl.lemmatize(word)"
   ]
  },
  {
   "cell_type": "code",
   "execution_count": 34,
   "id": "a841e0d4",
   "metadata": {},
   "outputs": [],
   "source": [
    "words=['I','am','going','to','a','meeting','about','data','science']"
   ]
  },
  {
   "cell_type": "code",
   "execution_count": 31,
   "id": "46aa561b",
   "metadata": {},
   "outputs": [],
   "source": [
    "words=['dogs','churches','aardwolves','abaci']"
   ]
  },
  {
   "cell_type": "code",
   "execution_count": 35,
   "id": "f59e7a45",
   "metadata": {},
   "outputs": [
    {
     "data": {
      "text/plain": [
       "['i', 'am', 'go', 'to', 'a', 'meet', 'about', 'data', 'scienc']"
      ]
     },
     "execution_count": 35,
     "metadata": {},
     "output_type": "execute_result"
    }
   ],
   "source": [
    "[stemmer.stem(word) for word in words]"
   ]
  },
  {
   "cell_type": "code",
   "execution_count": 39,
   "id": "cfe7396b",
   "metadata": {},
   "outputs": [
    {
     "data": {
      "text/plain": [
       "['I', 'be', 'go', 'to', 'a', 'meet', 'about', 'data', 'science']"
      ]
     },
     "execution_count": 39,
     "metadata": {},
     "output_type": "execute_result"
    }
   ],
   "source": [
    "[wnl.lemmatize(word,pos='v') for word in words]"
   ]
  },
  {
   "cell_type": "code",
   "execution_count": null,
   "id": "89a37369",
   "metadata": {},
   "outputs": [],
   "source": []
  },
  {
   "cell_type": "code",
   "execution_count": null,
   "id": "82a5fd7a",
   "metadata": {},
   "outputs": [],
   "source": []
  },
  {
   "cell_type": "code",
   "execution_count": null,
   "id": "ae7f1428",
   "metadata": {},
   "outputs": [],
   "source": []
  },
  {
   "cell_type": "code",
   "execution_count": null,
   "id": "f13ef9f9",
   "metadata": {},
   "outputs": [],
   "source": []
  },
  {
   "cell_type": "code",
   "execution_count": null,
   "id": "505731a5",
   "metadata": {},
   "outputs": [],
   "source": []
  }
 ],
 "metadata": {
  "kernelspec": {
   "display_name": "Python 3",
   "language": "python",
   "name": "python3"
  },
  "language_info": {
   "codemirror_mode": {
    "name": "ipython",
    "version": 3
   },
   "file_extension": ".py",
   "mimetype": "text/x-python",
   "name": "python",
   "nbconvert_exporter": "python",
   "pygments_lexer": "ipython3",
   "version": "3.8.8"
  }
 },
 "nbformat": 4,
 "nbformat_minor": 5
}
