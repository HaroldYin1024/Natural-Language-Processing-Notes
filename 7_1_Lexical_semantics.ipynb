{
  "nbformat": 4,
  "nbformat_minor": 0,
  "metadata": {
    "colab": {
      "name": "7.1 Lexical semantics.ipynb",
      "provenance": []
    },
    "kernelspec": {
      "name": "python3",
      "display_name": "Python 3"
    },
    "language_info": {
      "name": "python"
    }
  },
  "cells": [
    {
      "cell_type": "markdown",
      "source": [
        "# 1. WordNet senses and synonyms"
      ],
      "metadata": {
        "id": "jImilwwK2WT1"
      }
    },
    {
      "cell_type": "code",
      "source": [
        "import nltk\n",
        "nltk.download('wordnet')"
      ],
      "metadata": {
        "colab": {
          "base_uri": "https://localhost:8080/"
        },
        "id": "Lgqo5cu02ttv",
        "outputId": "39ea952b-5121-46d0-d407-99ddec97e250"
      },
      "execution_count": 3,
      "outputs": [
        {
          "output_type": "stream",
          "name": "stdout",
          "text": [
            "[nltk_data] Downloading package wordnet to /root/nltk_data...\n",
            "[nltk_data]   Unzipping corpora/wordnet.zip.\n"
          ]
        },
        {
          "output_type": "execute_result",
          "data": {
            "text/plain": [
              "True"
            ]
          },
          "metadata": {},
          "execution_count": 3
        }
      ]
    },
    {
      "cell_type": "code",
      "execution_count": 4,
      "metadata": {
        "id": "OzAI7YCS2Okn"
      },
      "outputs": [],
      "source": [
        "from nltk.corpus import wordnet as wn"
      ]
    },
    {
      "cell_type": "code",
      "source": [
        "# words are grouped conceptually into synsets ( synonym sets)\n",
        "wn.synsets('motorcar')"
      ],
      "metadata": {
        "colab": {
          "base_uri": "https://localhost:8080/"
        },
        "id": "Cwl4Nn6J2Wts",
        "outputId": "7d6a13b6-c22d-4e74-f3f9-a47f3e7ee3d7"
      },
      "execution_count": 5,
      "outputs": [
        {
          "output_type": "execute_result",
          "data": {
            "text/plain": [
              "[Synset('car.n.01')]"
            ]
          },
          "metadata": {},
          "execution_count": 5
        }
      ]
    },
    {
      "cell_type": "code",
      "source": [
        "wn.synsets('spell')"
      ],
      "metadata": {
        "colab": {
          "base_uri": "https://localhost:8080/"
        },
        "id": "19paRBHs2WxA",
        "outputId": "dc1bd7e0-35db-4b2a-bc2b-ddc7042ab3d3"
      },
      "execution_count": 7,
      "outputs": [
        {
          "output_type": "execute_result",
          "data": {
            "text/plain": [
              "[Synset('enchantment.n.02'),\n",
              " Synset('go.n.01'),\n",
              " Synset('while.n.01'),\n",
              " Synset('spell.n.04'),\n",
              " Synset('spell.v.01'),\n",
              " Synset('spell.v.02'),\n",
              " Synset('spell.v.03'),\n",
              " Synset('spell.v.04'),\n",
              " Synset('spell.v.05'),\n",
              " Synset('spell.v.06')]"
            ]
          },
          "metadata": {},
          "execution_count": 7
        }
      ]
    },
    {
      "cell_type": "code",
      "source": [
        "# synset members are referred to as 'lemmas'\n",
        "wn.synset('car.n.01').lemma_names()\n"
      ],
      "metadata": {
        "colab": {
          "base_uri": "https://localhost:8080/"
        },
        "id": "JszIlWHb2Wzo",
        "outputId": "a230a06b-a215-48fa-d814-47365088616b"
      },
      "execution_count": 8,
      "outputs": [
        {
          "output_type": "execute_result",
          "data": {
            "text/plain": [
              "['car', 'auto', 'automobile', 'machine', 'motorcar']"
            ]
          },
          "metadata": {},
          "execution_count": 8
        }
      ]
    },
    {
      "cell_type": "code",
      "source": [
        "wn.synset('car.n.01').definition()"
      ],
      "metadata": {
        "colab": {
          "base_uri": "https://localhost:8080/",
          "height": 35
        },
        "id": "O6xX7AnH2W2U",
        "outputId": "81d13925-c191-411c-dc70-2ed35ffd7907"
      },
      "execution_count": 9,
      "outputs": [
        {
          "output_type": "execute_result",
          "data": {
            "text/plain": [
              "'a motor vehicle with four wheels; usually propelled by an internal combustion engine'"
            ],
            "application/vnd.google.colaboratory.intrinsic+json": {
              "type": "string"
            }
          },
          "metadata": {},
          "execution_count": 9
        }
      ]
    },
    {
      "cell_type": "code",
      "source": [
        "wn.synset('car.n.01').examples()"
      ],
      "metadata": {
        "colab": {
          "base_uri": "https://localhost:8080/"
        },
        "id": "hwrkMYYI2W5B",
        "outputId": "03627932-20af-451a-96bc-4e38ba0b4db3"
      },
      "execution_count": 10,
      "outputs": [
        {
          "output_type": "execute_result",
          "data": {
            "text/plain": [
              "['he needs a car to get to work']"
            ]
          },
          "metadata": {},
          "execution_count": 10
        }
      ]
    },
    {
      "cell_type": "code",
      "source": [
        "# get all the lemmas for a given synset\n",
        "wn.synset('car.n.01').lemmas()"
      ],
      "metadata": {
        "colab": {
          "base_uri": "https://localhost:8080/"
        },
        "id": "rYJd8u8W2W7q",
        "outputId": "f57a8922-1216-4c53-c3c4-c70b886d9782"
      },
      "execution_count": 11,
      "outputs": [
        {
          "output_type": "execute_result",
          "data": {
            "text/plain": [
              "[Lemma('car.n.01.car'),\n",
              " Lemma('car.n.01.auto'),\n",
              " Lemma('car.n.01.automobile'),\n",
              " Lemma('car.n.01.machine'),\n",
              " Lemma('car.n.01.motorcar')]"
            ]
          },
          "metadata": {},
          "execution_count": 11
        }
      ]
    },
    {
      "cell_type": "code",
      "source": [
        "# we can iterate thru these senses to see all the lemmas\n",
        "for synset in wn.synsets('car'):\n",
        "  print(synset.lemma_names())"
      ],
      "metadata": {
        "colab": {
          "base_uri": "https://localhost:8080/"
        },
        "id": "oMRa8nP-2W-U",
        "outputId": "db79ada9-b2c2-452b-d6a0-fe5f9c5a9dc4"
      },
      "execution_count": 15,
      "outputs": [
        {
          "output_type": "stream",
          "name": "stdout",
          "text": [
            "['car', 'auto', 'automobile', 'machine', 'motorcar']\n",
            "['car', 'railcar', 'railway_car', 'railroad_car']\n",
            "['car', 'gondola']\n",
            "['car', 'elevator_car']\n",
            "['cable_car', 'car']\n"
          ]
        }
      ]
    },
    {
      "cell_type": "markdown",
      "source": [
        "# 2. The WordNet hierarchy"
      ],
      "metadata": {
        "id": "cuoBbQ7E7idY"
      }
    },
    {
      "cell_type": "code",
      "source": [
        "motorcar=wn.synset('car.n.01')"
      ],
      "metadata": {
        "id": "mjl8J3dT2XAz"
      },
      "execution_count": 16,
      "outputs": []
    },
    {
      "cell_type": "code",
      "source": [
        "# find more specific concepts\n",
        "types_of_motorcar = motorcar.hyponyms()"
      ],
      "metadata": {
        "id": "II97mRpw2XDJ"
      },
      "execution_count": 17,
      "outputs": []
    },
    {
      "cell_type": "code",
      "source": [
        "types_of_motorcar"
      ],
      "metadata": {
        "colab": {
          "base_uri": "https://localhost:8080/"
        },
        "id": "ji9rxGtu2XFy",
        "outputId": "f1f5ecc4-aea3-40a7-ef9b-adbc7ed2ef17"
      },
      "execution_count": 18,
      "outputs": [
        {
          "output_type": "execute_result",
          "data": {
            "text/plain": [
              "[Synset('ambulance.n.01'),\n",
              " Synset('beach_wagon.n.01'),\n",
              " Synset('bus.n.04'),\n",
              " Synset('cab.n.03'),\n",
              " Synset('compact.n.03'),\n",
              " Synset('convertible.n.01'),\n",
              " Synset('coupe.n.01'),\n",
              " Synset('cruiser.n.01'),\n",
              " Synset('electric.n.01'),\n",
              " Synset('gas_guzzler.n.01'),\n",
              " Synset('hardtop.n.01'),\n",
              " Synset('hatchback.n.01'),\n",
              " Synset('horseless_carriage.n.01'),\n",
              " Synset('hot_rod.n.01'),\n",
              " Synset('jeep.n.01'),\n",
              " Synset('limousine.n.01'),\n",
              " Synset('loaner.n.02'),\n",
              " Synset('minicar.n.01'),\n",
              " Synset('minivan.n.01'),\n",
              " Synset('model_t.n.01'),\n",
              " Synset('pace_car.n.01'),\n",
              " Synset('racer.n.02'),\n",
              " Synset('roadster.n.01'),\n",
              " Synset('sedan.n.01'),\n",
              " Synset('sport_utility.n.01'),\n",
              " Synset('sports_car.n.01'),\n",
              " Synset('stanley_steamer.n.01'),\n",
              " Synset('stock_car.n.01'),\n",
              " Synset('subcompact.n.01'),\n",
              " Synset('touring_car.n.01'),\n",
              " Synset('used-car.n.01')]"
            ]
          },
          "metadata": {},
          "execution_count": 18
        }
      ]
    },
    {
      "cell_type": "code",
      "source": [
        "# find more generic concepts\n",
        "motorcar.hypernyms()"
      ],
      "metadata": {
        "colab": {
          "base_uri": "https://localhost:8080/"
        },
        "id": "7KnQw6p12XIZ",
        "outputId": "0ce701ee-70ca-4714-eddb-600937191851"
      },
      "execution_count": 19,
      "outputs": [
        {
          "output_type": "execute_result",
          "data": {
            "text/plain": [
              "[Synset('motor_vehicle.n.01')]"
            ]
          },
          "metadata": {},
          "execution_count": 19
        }
      ]
    },
    {
      "cell_type": "code",
      "source": [
        "# a polyhierarchy means we can have multiple parents\n",
        "paths=motorcar.hypernym_paths()"
      ],
      "metadata": {
        "id": "zqsAINC02XLB"
      },
      "execution_count": 20,
      "outputs": []
    },
    {
      "cell_type": "code",
      "source": [
        "len(paths)"
      ],
      "metadata": {
        "colab": {
          "base_uri": "https://localhost:8080/"
        },
        "id": "SK9623GD2XNg",
        "outputId": "098c7ca7-77aa-497e-8d0f-4462f211bce7"
      },
      "execution_count": 21,
      "outputs": [
        {
          "output_type": "execute_result",
          "data": {
            "text/plain": [
              "2"
            ]
          },
          "metadata": {},
          "execution_count": 21
        }
      ]
    },
    {
      "cell_type": "code",
      "source": [
        "# let's look at the first path\n",
        "[synset.name() for synset in paths[0]]"
      ],
      "metadata": {
        "colab": {
          "base_uri": "https://localhost:8080/"
        },
        "id": "79wh4nyZ2XQg",
        "outputId": "4a412483-731b-4db2-c590-b2dcf84f00e0"
      },
      "execution_count": 23,
      "outputs": [
        {
          "output_type": "execute_result",
          "data": {
            "text/plain": [
              "['entity.n.01',\n",
              " 'physical_entity.n.01',\n",
              " 'object.n.01',\n",
              " 'whole.n.02',\n",
              " 'artifact.n.01',\n",
              " 'instrumentality.n.03',\n",
              " 'container.n.01',\n",
              " 'wheeled_vehicle.n.01',\n",
              " 'self-propelled_vehicle.n.01',\n",
              " 'motor_vehicle.n.01',\n",
              " 'car.n.01']"
            ]
          },
          "metadata": {},
          "execution_count": 23
        }
      ]
    },
    {
      "cell_type": "code",
      "source": [
        "# let's look at the first path\n",
        "[synset.name() for synset in paths[1]]"
      ],
      "metadata": {
        "colab": {
          "base_uri": "https://localhost:8080/"
        },
        "id": "S_L1mKq12XSw",
        "outputId": "86b28d06-7993-485e-907e-4258abc8df3a"
      },
      "execution_count": 25,
      "outputs": [
        {
          "output_type": "execute_result",
          "data": {
            "text/plain": [
              "['entity.n.01',\n",
              " 'physical_entity.n.01',\n",
              " 'object.n.01',\n",
              " 'whole.n.02',\n",
              " 'artifact.n.01',\n",
              " 'instrumentality.n.03',\n",
              " 'conveyance.n.03',\n",
              " 'vehicle.n.01',\n",
              " 'wheeled_vehicle.n.01',\n",
              " 'self-propelled_vehicle.n.01',\n",
              " 'motor_vehicle.n.01',\n",
              " 'car.n.01']"
            ]
          },
          "metadata": {},
          "execution_count": 25
        }
      ]
    },
    {
      "cell_type": "code",
      "source": [
        "#what's the root node?\n",
        "motorcar.root_hypernyms()"
      ],
      "metadata": {
        "colab": {
          "base_uri": "https://localhost:8080/"
        },
        "id": "DD_jI0NM2XVK",
        "outputId": "c2841561-a34a-4358-a2c6-f3d82ccc4691"
      },
      "execution_count": 26,
      "outputs": [
        {
          "output_type": "execute_result",
          "data": {
            "text/plain": [
              "[Synset('entity.n.01')]"
            ]
          },
          "metadata": {},
          "execution_count": 26
        }
      ]
    },
    {
      "cell_type": "markdown",
      "source": [
        "# 3. Measuring semantic similarity"
      ],
      "metadata": {
        "id": "J_KcM3KGdy7Z"
      }
    },
    {
      "cell_type": "code",
      "source": [
        "# Let's instantiate some terms\n",
        "right = wn.synset('right_whale.n.01')\n",
        "minke=wn.synset('minke_whale.n.01')\n",
        "orca=wn.synset('orca.n.01')\n",
        "tortoise=wn.synset('tortoise.n.01')\n",
        "plankton=wn.synset('plankton.n.01')\n",
        "novel=wn.synset('novel.n.01')\n",
        "\n",
        "\n",
        "\n",
        "\n",
        "\n",
        "\n"
      ],
      "metadata": {
        "id": "DbowAEMu2XXe"
      },
      "execution_count": 27,
      "outputs": []
    },
    {
      "cell_type": "code",
      "source": [
        "# find the common parent\n",
        "right.lowest_common_hypernyms(novel)"
      ],
      "metadata": {
        "colab": {
          "base_uri": "https://localhost:8080/"
        },
        "id": "O1CH56a12XZ0",
        "outputId": "4ed3fef4-bc45-467a-f7a3-2cc35f13c46c"
      },
      "execution_count": 29,
      "outputs": [
        {
          "output_type": "execute_result",
          "data": {
            "text/plain": [
              "[Synset('entity.n.01')]"
            ]
          },
          "metadata": {},
          "execution_count": 29
        }
      ]
    },
    {
      "cell_type": "code",
      "source": [
        "# calculate similarity\n",
        "right.path_similarity(novel)"
      ],
      "metadata": {
        "colab": {
          "base_uri": "https://localhost:8080/"
        },
        "id": "cm-7GlFc2Xbu",
        "outputId": "7e96f8ae-d9a7-4414-e150-280e41db1592"
      },
      "execution_count": 31,
      "outputs": [
        {
          "output_type": "execute_result",
          "data": {
            "text/plain": [
              "0.043478260869565216"
            ]
          },
          "metadata": {},
          "execution_count": 31
        }
      ]
    },
    {
      "cell_type": "code",
      "source": [
        ""
      ],
      "metadata": {
        "id": "0Sa0nrAA2Xgc"
      },
      "execution_count": null,
      "outputs": []
    },
    {
      "cell_type": "code",
      "source": [
        ""
      ],
      "metadata": {
        "id": "5IvW11Ou2XjJ"
      },
      "execution_count": null,
      "outputs": []
    },
    {
      "cell_type": "code",
      "source": [
        ""
      ],
      "metadata": {
        "id": "seq_cni32XmC"
      },
      "execution_count": null,
      "outputs": []
    },
    {
      "cell_type": "code",
      "source": [
        ""
      ],
      "metadata": {
        "id": "3TV6ZrTL2XoZ"
      },
      "execution_count": null,
      "outputs": []
    },
    {
      "cell_type": "code",
      "source": [
        ""
      ],
      "metadata": {
        "id": "DL176N5u2XrP"
      },
      "execution_count": null,
      "outputs": []
    },
    {
      "cell_type": "code",
      "source": [
        ""
      ],
      "metadata": {
        "id": "WZAZk0p-2Xt6"
      },
      "execution_count": null,
      "outputs": []
    },
    {
      "cell_type": "code",
      "source": [
        ""
      ],
      "metadata": {
        "id": "WcLhk-bD2Xwf"
      },
      "execution_count": null,
      "outputs": []
    },
    {
      "cell_type": "code",
      "source": [
        ""
      ],
      "metadata": {
        "id": "sST9qwcB2Xz2"
      },
      "execution_count": null,
      "outputs": []
    },
    {
      "cell_type": "code",
      "source": [
        ""
      ],
      "metadata": {
        "id": "WjN_QXwh2X1w"
      },
      "execution_count": null,
      "outputs": []
    },
    {
      "cell_type": "code",
      "source": [
        ""
      ],
      "metadata": {
        "id": "8GJcxd622X40"
      },
      "execution_count": null,
      "outputs": []
    },
    {
      "cell_type": "code",
      "source": [
        ""
      ],
      "metadata": {
        "id": "e9NEmxKc2X7g"
      },
      "execution_count": null,
      "outputs": []
    },
    {
      "cell_type": "code",
      "source": [
        ""
      ],
      "metadata": {
        "id": "EJ9M5w2O2X-i"
      },
      "execution_count": null,
      "outputs": []
    },
    {
      "cell_type": "code",
      "source": [
        ""
      ],
      "metadata": {
        "id": "FJwoFqdh2YAa"
      },
      "execution_count": null,
      "outputs": []
    }
  ]
}